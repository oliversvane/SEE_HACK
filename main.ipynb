{
  "nbformat": 4,
  "nbformat_minor": 0,
  "metadata": {
    "colab": {
      "provenance": []
    },
    "kernelspec": {
      "name": "python3",
      "display_name": "Python 3"
    },
    "language_info": {
      "name": "python"
    },
    "accelerator": "GPU",
    "gpuClass": "standard"
  },
  "cells": [
    {
      "cell_type": "markdown",
      "source": [
        "# SEE - Data science Challenge"
      ],
      "metadata": {
        "id": "anhH48DjKgOu"
      }
    },
    {
      "cell_type": "markdown",
      "source": [
        "## INIT\n",
        "Initialize the librraries used for the project."
      ],
      "metadata": {
        "id": "NG6uCE1QKlir"
      }
    },
    {
      "cell_type": "code",
      "source": [
        "import numpy as np\n",
        "import pandas as pd\n",
        "import matplotlib.pyplot as plt\n",
        "import os\n",
        "import shutil\n",
        "from tqdm import tqdm\n",
        "\n",
        "\n",
        "import tensorflow as tf\n",
        "from tensorflow import keras\n",
        "import tensorflow_hub as hub\n",
        "\n",
        "SEEDS = 42\n",
        "np.random.seed(SEEDS)\n",
        "tf.random.set_seed(SEEDS)\n",
        "tf.compat.v1.logging.set_verbosity(tf.compat.v1.logging.ERROR) #Disable warnings from tensorflow. Nobody reads them anyways ;)"
      ],
      "metadata": {
        "id": "UFSCQO09KYgV"
      },
      "execution_count": 47,
      "outputs": []
    },
    {
      "cell_type": "markdown",
      "source": [
        "## FLAGS\n",
        "Light Configurations to the script can be made here."
      ],
      "metadata": {
        "id": "xgFkvS2bKzBG"
      }
    },
    {
      "cell_type": "code",
      "execution_count": 61,
      "metadata": {
        "id": "aqlSd3aTjTAh"
      },
      "outputs": [],
      "source": [
        "\n",
        "\n",
        "#FLAGS\n",
        "NUM_CLASSES = 3 #Number of classes to predict\n",
        "VALIDATION_SPLIT = 0.2 #Percentage split of TRAIN & VAL\n",
        "IMAGE_SIZE = (332, 332) #Size of images fed to the network \n",
        "BATCH_SIZE = 128\n",
        "DATA_NAME = \"SEE\" #Folder to store data in case of multiple projects\n",
        "EPOCHS = 20 #Number of epochs to train the model\n",
        "STORAGE_PREFIX = \"/content/\" #Udes in google colab. Can be set to \"\" when developing locally\n",
        "BIT_MODEL_URL = \"https://tfhub.dev/google/bit/m-r50x1/1\" #BiT model to use. Models can be found at https://tfhub.dev/"
      ]
    },
    {
      "cell_type": "markdown",
      "source": [],
      "metadata": {
        "id": "SUa4gBstL6Px"
      }
    },
    {
      "cell_type": "code",
      "source": [
        "# Create folder to store data\n",
        "try:\n",
        "  os.mkdir(f\"data\") \n",
        "  os.mkdir(f\"data/{DATA_NAME}\")\n",
        "except:\n",
        "  pass\n"
      ],
      "metadata": {
        "id": "7MT_gX56oQau"
      },
      "execution_count": 49,
      "outputs": []
    },
    {
      "cell_type": "markdown",
      "source": [
        "## DATA"
      ],
      "metadata": {
        "id": "BsrvOfkYMD_7"
      }
    },
    {
      "cell_type": "markdown",
      "source": [
        "## Data ETL"
      ],
      "metadata": {
        "id": "fVAKcGltMHYl"
      }
    },
    {
      "cell_type": "code",
      "source": [
        "# Extract images from website\n",
        "import requests, zipfile, io\n",
        "r = requests.get(\"https://challenges-asset-files.s3.us-east-2.amazonaws.com/data_sets/Data-Science/4+-+events/SchneiderElectricEuropeanHackathon22/train_test_data.zip\")\n",
        "z = zipfile.ZipFile(io.BytesIO(r.content))\n",
        "z.extractall(STORAGE_PREFIX+\"data\")"
      ],
      "metadata": {
        "id": "Nb9_d2L6mUZQ"
      },
      "execution_count": 50,
      "outputs": []
    },
    {
      "cell_type": "code",
      "source": [
        "# Load Excel Files from website\n",
        "df_train = pd.read_csv('https://challenges-asset-files.s3.us-east-2.amazonaws.com/data_sets/Data-Science/4+-+events/SchneiderElectricEuropeanHackathon22/train.csv')\n",
        "df_test = pd.read_csv('https://challenges-asset-files.s3.us-east-2.amazonaws.com/data_sets/Data-Science/4+-+events/SchneiderElectricEuropeanHackathon22/test.csv')"
      ],
      "metadata": {
        "id": "n3HvmOPAjUXp"
      },
      "execution_count": 51,
      "outputs": []
    },
    {
      "cell_type": "code",
      "source": [
        "#Data Analysis\n",
        "def get_count(x=df_train['label']):\n",
        "  import seaborn as sns\n",
        "  sns.countplot(x=x)\n",
        "  plt.savefig(\"foo.png\")"
      ],
      "metadata": {
        "id": "Z7XISVCuiVQc"
      },
      "execution_count": null,
      "outputs": []
    },
    {
      "cell_type": "code",
      "source": [
        "# Load data into new folder structure compatible with keras preprocessing\n",
        "for i,row in tqdm(df_train.iterrows()):\n",
        "    path = f\"data/{DATA_NAME}/{row.label}/\"\n",
        "    try: \n",
        "        os.mkdir(path) \n",
        "    except: \n",
        "        pass\n",
        "    shutil.copyfile(f\"data/{row.example_path}\", path+row.example_path.split('/')[-1])"
      ],
      "metadata": {
        "id": "TrkSI34vjW8I",
        "colab": {
          "base_uri": "https://localhost:8080/"
        },
        "outputId": "53e6884a-7c86-48df-e793-236b4bb78dc4"
      },
      "execution_count": 62,
      "outputs": [
        {
          "output_type": "stream",
          "name": "stderr",
          "text": [
            "1714it [00:00, 1840.43it/s]\n"
          ]
        }
      ]
    },
    {
      "cell_type": "markdown",
      "source": [
        "## Data Pre-Processing"
      ],
      "metadata": {
        "id": "Vx8uBcFnMkZ7"
      }
    },
    {
      "cell_type": "code",
      "source": [
        "# Load and split data into test and train\n",
        "train_ds = tf.keras.preprocessing.image_dataset_from_directory(\n",
        "    f\"data/{DATA_NAME}\",\n",
        "    validation_split=VALIDATION_SPLIT,\n",
        "    seed=SEEDS,\n",
        "    image_size=IMAGE_SIZE,\n",
        "    batch_size=BATCH_SIZE,\n",
        "    subset = \"training\"\n",
        ")\n",
        "\n",
        "val_ds = tf.keras.preprocessing.image_dataset_from_directory(\n",
        "    f\"data/{DATA_NAME}\",\n",
        "    validation_split=VALIDATION_SPLIT,\n",
        "    seed=SEEDS,\n",
        "    image_size=IMAGE_SIZE,\n",
        "    batch_size=BATCH_SIZE,\n",
        "    subset = \"validation\"\n",
        ")\n",
        "\n"
      ],
      "metadata": {
        "id": "wwCYEkj8jY7p",
        "colab": {
          "base_uri": "https://localhost:8080/"
        },
        "outputId": "0f0306d5-48b7-4178-f7d4-67dd43fa4238"
      },
      "execution_count": 63,
      "outputs": [
        {
          "output_type": "stream",
          "name": "stdout",
          "text": [
            "Found 1714 files belonging to 3 classes.\n",
            "Using 1372 files for training.\n",
            "Found 1714 files belonging to 3 classes.\n",
            "Using 342 files for validation.\n"
          ]
        }
      ]
    },
    {
      "cell_type": "code",
      "source": [
        "# Define how to augment the data\n",
        "data_augmentation = keras.Sequential(\n",
        "    [\n",
        "        keras.layers.RandomFlip(\"horizontal\"),\n",
        "        keras.layers.RandomRotation(0.1),\n",
        "        keras.layers.Rescaling(1./255), # Normalize values\n",
        "    ]\n",
        ")"
      ],
      "metadata": {
        "id": "PTgHoIwcjcU-"
      },
      "execution_count": 64,
      "outputs": []
    },
    {
      "cell_type": "code",
      "source": [
        "plt.figure(figsize=(10, 10))\n",
        "for images, _ in train_ds.take(1):\n",
        "    for i in range(9):\n",
        "        augmented_images = data_augmentation(images)\n",
        "        ax = plt.subplot(3, 3, i + 1)\n",
        "        plt.imshow(augmented_images[0].numpy().astype(\"uint8\"))\n",
        "        plt.axis(\"off\")\n",
        "# Since all images have been normalized with pixel values between 0 and 1, its hard to distigusih the images with the human eye. The ML model however finds it easy*."
      ],
      "metadata": {
        "id": "R1bJX8mXkS89",
        "colab": {
          "base_uri": "https://localhost:8080/",
          "height": 575
        },
        "outputId": "4ba43c42-be33-4701-e583-09b96041f751"
      },
      "execution_count": 55,
      "outputs": [
        {
          "output_type": "display_data",
          "data": {
            "text/plain": [
              "<Figure size 720x720 with 9 Axes>"
            ],
            "image/png": "[encoded data removed]"
          },
          "metadata": {
            "needs_background": "light"
          }
        }
      ]
    },
    {
      "cell_type": "code",
      "source": [
        "train_ds = train_ds.map(\n",
        "    lambda x, y: (data_augmentation(x, training=True), y),\n",
        "    num_parallel_calls=tf.data.AUTOTUNE,\n",
        ") # Apply the augmentation to the train data\n",
        "\n",
        "train_ds = train_ds.prefetch(tf.data.AUTOTUNE)\n",
        "val_ds = val_ds.prefetch(tf.data.AUTOTUNE)"
      ],
      "metadata": {
        "id": "Dqmyd4aWkVw3"
      },
      "execution_count": 65,
      "outputs": []
    },
    {
      "cell_type": "code",
      "source": [
        "# Get BiT model from the hub\n",
        "bit_module = hub.KerasLayer(BIT_MODEL_URL,trainable=False)"
      ],
      "metadata": {
        "id": "ucfr_Ww-jeaZ"
      },
      "execution_count": 10,
      "outputs": []
    },
    {
      "cell_type": "code",
      "source": [
        "# Define a model with a new head and the BiT module\n",
        "class BiTModel(keras.Model):\n",
        "    def __init__(self, num_classes, module, **kwargs):\n",
        "        super().__init__(**kwargs)\n",
        "        self.num_classes = num_classes\n",
        "        self.head = keras.layers.Dense(num_classes, kernel_initializer=\"zeros\")\n",
        "        self.bit_model = module\n",
        "\n",
        "    def call(self, images):\n",
        "        bit_embedding = self.bit_model(images)\n",
        "        return self.head(bit_embedding)\n",
        "\n",
        "\n",
        "model = BiTModel(num_classes=NUM_CLASSES, module=bit_module)"
      ],
      "metadata": {
        "id": "jxlCh87ijf2l"
      },
      "execution_count": 66,
      "outputs": []
    },
    {
      "cell_type": "code",
      "source": [
        "# Define the optimizer and loss function of the model\n",
        "optimizer = keras.optimizers.Adam()\n",
        "loss_fn = keras.losses.SparseCategoricalCrossentropy(from_logits=True)\n",
        "model.compile(optimizer=optimizer, loss=loss_fn, metrics=[\"accuracy\"])"
      ],
      "metadata": {
        "id": "gOgsjZURjlg1"
      },
      "execution_count": 70,
      "outputs": []
    },
    {
      "cell_type": "code",
      "source": [
        "# Define callbacks for model if you with to do so. I have choosen to disable the callbacks.\n",
        "train_callbacks = [\n",
        "    keras.callbacks.EarlyStopping(\n",
        "        monitor=\"val_accuracy\", patience=2, restore_best_weights=True,\n",
        "    ),\n",
        "    keras.callbacks.ModelCheckpoint(\"models/save_at_{epoch}.keras\")\n",
        "]"
      ],
      "metadata": {
        "id": "FCyvhxXvkcCt"
      },
      "execution_count": 68,
      "outputs": []
    },
    {
      "cell_type": "code",
      "source": [
        "#Fit the model on the training data\n",
        "history = model.fit(\n",
        "    train_ds,\n",
        "    epochs=EPOCHS,\n",
        "    #callbacks=train_callbacks,\n",
        "    validation_data=val_ds,\n",
        ")"
      ],
      "metadata": {
        "colab": {
          "base_uri": "https://localhost:8080/"
        },
        "id": "7hLtUS9Y9WPU",
        "outputId": "95c69d59-709f-4c27-e947-80f9a2c145df"
      },
      "execution_count": 71,
      "outputs": [
        {
          "output_type": "stream",
          "name": "stdout",
          "text": [
            "Epoch 1/20\n",
            "6/6 [==============================] - 50s 7s/step - loss: 1.1054 - accuracy: 0.5598 - val_loss: 0.8626 - val_accuracy: 0.6287\n",
            "Epoch 2/20\n",
            "6/6 [==============================] - 48s 7s/step - loss: 0.7297 - accuracy: 0.7070 - val_loss: 0.9322 - val_accuracy: 0.6316\n",
            "Epoch 3/20\n",
            "6/6 [==============================] - 45s 6s/step - loss: 0.7199 - accuracy: 0.7092 - val_loss: 0.6406 - val_accuracy: 0.7310\n",
            "Epoch 4/20\n",
            "6/6 [==============================] - 44s 6s/step - loss: 0.6239 - accuracy: 0.7515 - val_loss: 0.6858 - val_accuracy: 0.7193\n",
            "Epoch 5/20\n",
            "6/6 [==============================] - 45s 6s/step - loss: 0.5923 - accuracy: 0.7762 - val_loss: 0.6695 - val_accuracy: 0.7251\n",
            "Epoch 6/20\n",
            "6/6 [==============================] - 49s 6s/step - loss: 0.5751 - accuracy: 0.7682 - val_loss: 0.6948 - val_accuracy: 0.6871\n",
            "Epoch 7/20\n",
            "6/6 [==============================] - 47s 6s/step - loss: 0.5774 - accuracy: 0.7711 - val_loss: 0.6553 - val_accuracy: 0.7427\n",
            "Epoch 8/20\n",
            "6/6 [==============================] - 44s 6s/step - loss: 0.5439 - accuracy: 0.7879 - val_loss: 0.6324 - val_accuracy: 0.7368\n",
            "Epoch 9/20\n",
            "6/6 [==============================] - 44s 6s/step - loss: 0.5282 - accuracy: 0.7879 - val_loss: 0.6028 - val_accuracy: 0.7602\n",
            "Epoch 10/20\n",
            "6/6 [==============================] - 44s 6s/step - loss: 0.5059 - accuracy: 0.8047 - val_loss: 0.6176 - val_accuracy: 0.7281\n",
            "Epoch 11/20\n",
            "6/6 [==============================] - 44s 6s/step - loss: 0.5155 - accuracy: 0.8025 - val_loss: 0.6340 - val_accuracy: 0.7222\n",
            "Epoch 12/20\n",
            "6/6 [==============================] - 47s 7s/step - loss: 0.5172 - accuracy: 0.8025 - val_loss: 0.6421 - val_accuracy: 0.7544\n",
            "Epoch 13/20\n",
            "6/6 [==============================] - 45s 6s/step - loss: 0.5058 - accuracy: 0.8076 - val_loss: 0.6421 - val_accuracy: 0.7281\n",
            "Epoch 14/20\n",
            "6/6 [==============================] - 46s 7s/step - loss: 0.5082 - accuracy: 0.8061 - val_loss: 0.6221 - val_accuracy: 0.7310\n",
            "Epoch 15/20\n",
            "6/6 [==============================] - 44s 6s/step - loss: 0.5024 - accuracy: 0.8076 - val_loss: 0.6126 - val_accuracy: 0.7427\n",
            "Epoch 16/20\n",
            "6/6 [==============================] - 46s 6s/step - loss: 0.4653 - accuracy: 0.8214 - val_loss: 0.6248 - val_accuracy: 0.7544\n",
            "Epoch 17/20\n",
            "6/6 [==============================] - 44s 6s/step - loss: 0.4687 - accuracy: 0.8251 - val_loss: 0.6376 - val_accuracy: 0.7339\n",
            "Epoch 18/20\n",
            "6/6 [==============================] - 44s 6s/step - loss: 0.4651 - accuracy: 0.8280 - val_loss: 0.6203 - val_accuracy: 0.7368\n",
            "Epoch 19/20\n",
            "6/6 [==============================] - 45s 6s/step - loss: 0.4590 - accuracy: 0.8353 - val_loss: 0.6077 - val_accuracy: 0.7427\n",
            "Epoch 20/20\n",
            "6/6 [==============================] - 44s 6s/step - loss: 0.4499 - accuracy: 0.8389 - val_loss: 0.6139 - val_accuracy: 0.7485\n"
          ]
        }
      ]
    },
    {
      "cell_type": "code",
      "source": [
        "# Plot the training progress using either loss or accuracy\n",
        "def plot_hist(hist,loss=True):\n",
        "  if loss:\n",
        "    plt.plot(hist.history[\"loss\"])\n",
        "    plt.plot(hist.history[\"val_loss\"])\n",
        "    plt.ylabel(\"Loss\")\n",
        "    plt.legend([\"train_loss\", \"val_loss\"], loc=\"upper left\")\n",
        "  else:\n",
        "    plt.plot(hist.history[\"accuracy\"])\n",
        "    plt.plot(hist.history[\"val_accuracy\"])\n",
        "    plt.ylabel(\"Accuracy\")\n",
        "    plt.legend([\"train_acc\", \"val_acc\"], loc=\"upper left\")\n",
        "\n",
        "  plt.title(\"Training Progress\")\n",
        "  plt.xlabel(\"Epochs\")\n",
        "  plt.savefig(\"foo2.png\")\n",
        "  plt.show()\n",
        "\n",
        "\n",
        "plot_hist(history,True)"
      ],
      "metadata": {
        "id": "_DMTl5j5kfhU",
        "colab": {
          "base_uri": "https://localhost:8080/",
          "height": 295
        },
        "outputId": "9b1c3b56-ae66-4895-d03f-5a2dbdc1c196"
      },
      "execution_count": 76,
      "outputs": [
        {
          "output_type": "display_data",
          "data": {
            "text/plain": [
              "<Figure size 432x288 with 1 Axes>"
            ],
            "image/png": "[encoded data removed]"
          },
          "metadata": {
            "needs_background": "light"
          }
        }
      ]
    },
    {
      "cell_type": "code",
      "source": [
        "# Print final validation accuracy\n",
        "accuracy = model.evaluate(val_ds)[1] * 100\n",
        "print(\"Accuracy: {:.2f}%\".format(accuracy))"
      ],
      "metadata": {
        "id": "u0bvA-ookg9S",
        "colab": {
          "base_uri": "https://localhost:8080/"
        },
        "outputId": "a13d9dae-4595-4f72-ca6e-94ed7c550552"
      },
      "execution_count": 73,
      "outputs": [
        {
          "output_type": "stream",
          "name": "stdout",
          "text": [
            "2/2 [==============================] - 7s 1s/step - loss: 0.6139 - accuracy: 0.7485\n",
            "Accuracy: 74.85%\n"
          ]
        }
      ]
    },
    {
      "cell_type": "code",
      "source": [
        "directory = \"data/train_test_data/test\"\n",
        " \n",
        "# iterate over files in\n",
        "# that directory\n",
        "\n",
        "final_dict = {\"target\":{}}\n",
        "for filename in tqdm(os.listdir(directory)):\n",
        "    f = os.path.join(directory, filename)\n",
        "    img = keras.preprocessing.image.load_img(\n",
        "    f, target_size=IMAGE_SIZE\n",
        "    )\n",
        "    img_array = keras.preprocessing.image.img_to_array(img)\n",
        "    img_array = tf.expand_dims(img_array, 0)  # Create batch axis\n",
        "\n",
        "    predictions = list(model.predict(img_array,verbose=0)[0])\n",
        "    final_dict['target'][filename.split('.')[0]] = predictions.index(max(predictions))\n",
        "\n",
        "\n"
      ],
      "metadata": {
        "colab": {
          "base_uri": "https://localhost:8080/"
        },
        "id": "u4wsJc6aWRVM",
        "outputId": "4040a94e-ec8e-40b3-a238-429aae15d554"
      },
      "execution_count": 74,
      "outputs": [
        {
          "output_type": "stream",
          "name": "stderr",
          "text": [
            "100%|██████████| 635/635 [01:02<00:00, 10.24it/s]\n"
          ]
        }
      ]
    },
    {
      "cell_type": "code",
      "source": [
        "import json\n",
        "\n",
        "with open('predictions.json', 'w') as fp:\n",
        "    json.dump(final_dict, fp)"
      ],
      "metadata": {
        "id": "lvp7pDxNefAv"
      },
      "execution_count": 46,
      "outputs": []
    }
  ]
}